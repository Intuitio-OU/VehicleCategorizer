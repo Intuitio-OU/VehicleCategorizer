{
 "cells": [
  {
   "cell_type": "code",
   "execution_count": 1,
   "metadata": {},
   "outputs": [
    {
     "ename": "SyntaxError",
     "evalue": "EOL while scanning string literal (VehicleCategorizer.py, line 65)",
     "output_type": "error",
     "traceback": [
      "\u001b[1;36m  File \u001b[1;32m\"C:\\Users\\mattanderson\\Documents\\Programming\\VehicleCategorizer\\VehicleCategorizer.py\"\u001b[1;36m, line \u001b[1;32m65\u001b[0m\n\u001b[1;33m    plugincars_url = \"http://www.plugincars.com\u001b[0m\n\u001b[1;37m                                               ^\u001b[0m\n\u001b[1;31mSyntaxError\u001b[0m\u001b[1;31m:\u001b[0m EOL while scanning string literal\n"
     ]
    }
   ],
   "source": [
    "# testcase class for VehicleCategorizer\n",
    "\n",
    "# get the vehiclecategorizer and unittest classes\n",
    "import VehicleCategorizer\n",
    "import unittest\n",
    "\n",
    "# generate the testcase\n",
    "class VehicleCategorizerTestCase(unittest.TestCase):\n",
    "    # create a setup function\n",
    "    def setUp(self):\n",
    "        try: VehicleCategorizer.VehicleCategorizer()\n",
    "        except ImportError as err:\n",
    "            print(\"Are you even importing the correct class.\")\n",
    "        self.vCat = VehicleCategorizer.VehicleCategorizer()\n",
    "     \n",
    "   # test the information scraped from the plugincars website    \n",
    "    def test_plugincars(self):\n",
    "        \n",
    "        try: self.vCat.scrapePlugincars('test_plugincars.csv')\n",
    "        except KeyError as err: print(\"Check the dictionary keys\")\n",
    "        except IndexError: print(\"You're over indexing in the amount of variable that are available in the car name list.\")\n",
    "        self.vCat.scrapePlugincars('test_plugincars.csv')\n",
    "        \"\"\"\n",
    "        for i in range(len(self.vc.plugincars_car_names_list)):\n",
    "            print(\"make:\", self.vc.plugincars_dict[self.vc.plugincars_car_names_list[i]]['make'])\n",
    "            print(\"model:\", self.vc.plugincars_dict[self.vc.plugincars_car_names_list[i]]['model'])\n",
    "            print(\"base_msrp($):\", self.vc.plugincars_dict[self.vc.plugincars_car_names_list[i]]['base_msrp($)'])\n",
    "            print(\"tech:\", self.vc.plugincars_dict[self.vc.plugincars_car_names_list[i]]['tech'])\n",
    "            print(\"body:\",self.vc.plugincars_dict[self.vc.plugincars_car_names_list[i]]['body'])\n",
    "            print(\"range(mi):\", self.vc.plugincars_dict[self.vc.plugincars_car_names_list[i]]['range(mi)'])\n",
    "            print(\"battery_capacity(kWh):\", self.vc.plugincars_dict[self.vc.plugincars_car_names_list[i]]['battery_capacity(kWh)'])\n",
    "            print(\"charge_rate(kW):\", self.vc.plugincars_dict[self.vc.plugincars_car_names_list[i]]['charge_rate(kW)'])\n",
    "        \"\"\"\n",
    "        \n",
    "    \"\"\"\n",
    "    def test_plugincars_csv(self):\n",
    "        with open('plugincars.csv','r') as csvfile:\n",
    "    \"\"\"\n",
    "            \n",
    "# main function to run through all of the test function made in the test case\n",
    "# use the middle arugrument argv=['first-arg-is-ignored'], exit = False because in ipy/ipynb files\n",
    "# unittest.main looks at sys.argv first so you ignore argv so that unittest.main runs\n",
    "if __name__ == '__main__':\n",
    "    unittest.main(argv=['first-arg-is-ignored'], exit=False)\n"
   ]
  },
  {
   "cell_type": "code",
   "execution_count": null,
   "metadata": {},
   "outputs": [],
   "source": []
  }
 ],
 "metadata": {
  "kernelspec": {
   "display_name": "Python 3",
   "language": "python",
   "name": "python3"
  },
  "language_info": {
   "codemirror_mode": {
    "name": "ipython",
    "version": 3
   },
   "file_extension": ".py",
   "mimetype": "text/x-python",
   "name": "python",
   "nbconvert_exporter": "python",
   "pygments_lexer": "ipython3",
   "version": "3.6.1"
  }
 },
 "nbformat": 4,
 "nbformat_minor": 2
}
