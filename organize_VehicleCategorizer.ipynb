{
 "cells": [
  {
   "cell_type": "code",
   "execution_count": 1,
   "metadata": {},
   "outputs": [],
   "source": [
    "import VehicleCategorizer as vc\n",
    "import pandas as pd\n",
    "import plotly\n",
    "import plotly.plotly as py\n",
    "import plotly.figure_factory as ff\n",
    "plotly.tools.set_credentials_file(username='mattandersoninf', api_key='qcMjCMXF0U2eDZcHFl0X')\n",
    "\n",
    "vCat = vc.VehicleCategorizer()\n",
    "vCat.scrapePlugincars()\n",
    "\"\"\"\n",
    "try:\n",
    "    dataframe = pd.DataFrame.from_csv('../VehicleCategorizer/master_plugincars.csv')\n",
    "    table = ff.create_table(dataframe)\n",
    "    # display table and make it file in your pyplot account\n",
    "    py.iplot(table, filename='vehiclecategorizer_plugincars')\n",
    "except IOError:\n",
    "    print('Check the directory you stored the plugincars.csv file. Make sure it exists.')\n",
    "\"\"\"\n",
    "dataframe = pd.DataFrame.from_csv('../VehicleCategorizer/master_plugincars.csv')\n",
    "table = ff.create_table(dataframe)\n",
    "# display table and make it file in your pyplot account\n",
    "py.iplot(table, filename='vehiclecategorizer_plugincars')\n"
   ]
  },
  {
   "cell_type": "code",
   "execution_count": null,
   "metadata": {
    "collapsed": true
   },
   "outputs": [],
   "source": []
  }
 ],
 "metadata": {
  "kernelspec": {
   "display_name": "Python 3",
   "language": "python",
   "name": "python3"
  },
  "language_info": {
   "codemirror_mode": {
    "name": "ipython",
    "version": 3
   },
   "file_extension": ".py",
   "mimetype": "text/x-python",
   "name": "python",
   "nbconvert_exporter": "python",
   "pygments_lexer": "ipython3",
   "version": "3.6.1"
  }
 },
 "nbformat": 4,
 "nbformat_minor": 2
}
